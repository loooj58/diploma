{
 "cells": [
  {
   "cell_type": "code",
   "execution_count": 1,
   "metadata": {},
   "outputs": [
    {
     "data": {
      "text/plain": [
       "150"
      ]
     },
     "execution_count": 1,
     "metadata": {},
     "output_type": "execute_result"
    }
   ],
   "source": [
    "E_min = 10\n",
    "E_max = 150"
   ]
  },
  {
   "cell_type": "code",
   "execution_count": 2,
   "metadata": {},
   "outputs": [
    {
     "data": {
      "text/plain": [
       "modify_25 (generic function with 1 method)"
      ]
     },
     "execution_count": 2,
     "metadata": {},
     "output_type": "execute_result"
    }
   ],
   "source": [
    "using HDF5\n",
    "using JSON\n",
    "using Plots, LinearAlgebra, Statistics, Random, StatsBase, Compat, Distributions\n",
    "\n",
    "# data = Dict()\n",
    "\n",
    "# filenames = [\"mcmc_electron.hdf5\"];\n",
    "\n",
    "\n",
    "# # d = Uniform(0, 35)\n",
    "# # data_samples = Array{Float64, 1}()\n",
    "# # counter = 0\n",
    "# # while counter < 10000\n",
    "# #     x = rand(d)\n",
    "# #     if abs(x) <= 30.5\n",
    "# #         counter += 1\n",
    "# #         push!(data_samples, convert(Int, round(x)))\n",
    "# #     end\n",
    "# # end\n",
    "# # u=unique(data_samples)\n",
    "# # thetas=Dict([(i,count(x->x==i,data_samples)) for i in u])\n",
    "\n",
    "# theta_distr = []\n",
    "\n",
    "function modify_25(arr)\n",
    "        return [sum(arr[(1 + i * 4):(4 + i * 4)]) for i in range(0, stop=24)]\n",
    "    end\n",
    "\n",
    "# for filename in filenames\n",
    "#     println(filename)\n",
    "#     ligo = h5open(filename, \"r\")\n",
    "\n",
    "#     for elem in names(ligo)\n",
    "#         m = ligo[elem]\n",
    "#         j = JSON.parse(read(m)[\"meta\"])\n",
    "#         data_array = [modify_25(elem.data[1]) for elem in read(m)[\"deposit\"]]\n",
    "#         energy_value = j[\"values\"][\"macros\"][\"energy\"]\n",
    "#         theta = j[\"values\"][\"macros\"][\"theta\"]\n",
    "#         if theta == 0 && energy_value >= E_min\n",
    "#             if !haskey(data, energy_value)\n",
    "#                 data[energy_value] = []\n",
    "#             end\n",
    "#             append!(data[energy_value], data_array)\n",
    "#         end\n",
    "#     end\n",
    "\n",
    "#     close(ligo)\n",
    "# end\n",
    "\n",
    "# # for energy in keys(data)\n",
    "# #     Random.shuffle!(data[energy])\n",
    "# # end"
   ]
  },
  {
   "cell_type": "code",
   "execution_count": null,
   "metadata": {},
   "outputs": [
    {
     "name": "stdout",
     "output_type": "stream",
     "text": [
      "mcmc_1_69.hdf5\n"
     ]
    }
   ],
   "source": [
    "data_p = Dict()\n",
    "\n",
    "filenames = [\"mcmc_1_69.hdf5\", \"mcmc_70_99.hdf5\", \"mcmc_100_119.hdf5\",\n",
    "\"mcmc_120_139.hdf5\", \"mcmc_140_150.hdf5\"];\n",
    "\n",
    "theta_distr = []\n",
    "\n",
    "for filename in filenames\n",
    "    println(filename)\n",
    "    ligo = h5open(filename, \"r\")\n",
    "\n",
    "    for elem in names(ligo)\n",
    "        m = ligo[elem]\n",
    "        j = JSON.parse(read(m)[\"meta\"])\n",
    "        data_array = [modify_25(elem.data[1]) for elem in read(m)[\"deposit\"]]\n",
    "        energy_value = j[\"values\"][\"macros\"][\"energy\"]\n",
    "        theta = j[\"values\"][\"macros\"][\"theta\"]\n",
    "        if theta == 0# && energy_value >= E_min\n",
    "            if !haskey(data_p, energy_value)\n",
    "                data_p[energy_value] = []\n",
    "            end\n",
    "            append!(data_p[energy_value], data_array)\n",
    "        end\n",
    "    end\n",
    "\n",
    "    close(ligo)\n",
    "end\n"
   ]
  },
  {
   "cell_type": "code",
   "execution_count": null,
   "metadata": {},
   "outputs": [],
   "source": [
    "include(\"../../statreg_materials/StatReg.jl/src/StatReg.jl\")\n",
    "using .StatReg\n",
    "\n",
    "\n",
    "plotly()\n",
    "gr(size=(500,500), html_output_format=:png)\n",
    "\n",
    "GLOBAL_RNG = 123\n",
    "Random.seed!(123);"
   ]
  },
  {
   "cell_type": "code",
   "execution_count": null,
   "metadata": {},
   "outputs": [],
   "source": [
    "using Memoize\n",
    "# @memoize function K(E, y)\n",
    "#     return mean([elem[y] for elem in data[E]])\n",
    "# end\n",
    "@memoize function K_p(E, y)\n",
    "    return mean([elem[y] for elem in data_p[E]])\n",
    "end\n",
    "\n",
    "# energy = sort(collect(keys(data)));\n",
    "energy_p = sort(collect(keys(data_p)));\n",
    "# ln_energy = log.(energy);\n",
    "# ln_energy_p = log.(energy_p);"
   ]
  },
  {
   "cell_type": "code",
   "execution_count": null,
   "metadata": {},
   "outputs": [],
   "source": [
    "energy_p = energy_p[[x >= E_min for x in energy_p]]\n",
    "energy_p\n",
    "# energy = energy[[x > E_min for x in energy]];"
   ]
  },
  {
   "cell_type": "code",
   "execution_count": null,
   "metadata": {},
   "outputs": [],
   "source": [
    "# p = plot()\n",
    "# for e in energy\n",
    "#     p = plot!(collect(range(1, stop=25)), [K(e, y_) for y_ in collect(range(1, stop=25))], label=\"\")\n",
    "# end\n",
    "# display(p)"
   ]
  },
  {
   "cell_type": "code",
   "execution_count": null,
   "metadata": {},
   "outputs": [],
   "source": [
    "p = plot()\n",
    "for e in energy_p\n",
    "    p = plot!(collect(range(1, stop=25)), [K_p(e, y_) for y_ in collect(range(1, stop=25))], label=\"\")\n",
    "end\n",
    "display(p)"
   ]
  },
  {
   "cell_type": "code",
   "execution_count": null,
   "metadata": {},
   "outputs": [],
   "source": [
    "# function create_spectrum(n_energy, energy)\n",
    "#     arr = []\n",
    "#     for (n, i) in zip(n_energy, energy)\n",
    "#         value = data[i]\n",
    "#         data_arr = sample(value, n)\n",
    "#         append!(arr, data_arr)\n",
    "#     end\n",
    "# #     res = sum(arr)\n",
    "#     return arr\n",
    "# end"
   ]
  },
  {
   "cell_type": "code",
   "execution_count": null,
   "metadata": {},
   "outputs": [],
   "source": [
    "data_p"
   ]
  },
  {
   "cell_type": "code",
   "execution_count": null,
   "metadata": {},
   "outputs": [],
   "source": [
    "function create_spectrum_p(n_energy, energy_p)\n",
    "    arr = []\n",
    "#     for (key, value) in data\n",
    "#         n = n_energy[floor(Int, key*10)]\n",
    "#         data_arr = sample(value, n)\n",
    "#         append!(arr, data_arr)\n",
    "#     end\n",
    "    for (n, i) in zip(n_energy, energy_p)\n",
    "        value = data_p[i]\n",
    "        data_arr = sample(value, n)\n",
    "        append!(arr, data_arr)\n",
    "    end\n",
    "    return sum(arr)\n",
    "end"
   ]
  },
  {
   "cell_type": "code",
   "execution_count": null,
   "metadata": {},
   "outputs": [],
   "source": [
    "function real_spectrum_p(E)\n",
    "#     C = 3.26 * 10^7\n",
    "#     ga = 0.87\n",
    "#     gb = 4.68\n",
    "#     E0 = 12.8\n",
    "#     dt = 1.44 * 10^5\n",
    "    C = 1.35 * 10^9\n",
    "    ga = 1.04\n",
    "    gb = 3.52\n",
    "    E0 = 27.4\n",
    "    dt = 1.19 * 10^5\n",
    "    S = 10\n",
    "    \n",
    "    if E < (gb - ga) * E0\n",
    "        return C * E^(-ga) * exp(- E / E0) / dt * S\n",
    "    else\n",
    "        return C * E^(-gb) * ((gb-ga) * E0)^(gb-ga) * exp(ga-gb) / dt * S\n",
    "    end\n",
    "end\n",
    "\n",
    "# function real_spectrum(E)\n",
    "#     Ca = 6.58 * 10^8 #* 10^3\n",
    "#     Cb = 1.46 * 10^8 #* 10^3\n",
    "#     ga = 1.90\n",
    "#     gb = 4.27\n",
    "#     dt = 1.19 * 10^5\n",
    "#     E0 = 0.5\n",
    "#     S = 10\n",
    "# #     Ca = 1.08 * 10^7\n",
    "# #     Cb = 1.67 * 10^7\n",
    "# #     ga = 1.50\n",
    "# #     gb = 3.98\n",
    "# #     dt = 2.27 * 10^5\n",
    "# #     E0 = 1.32\n",
    "# #     S = 10\n",
    "#     if E < E0\n",
    "#         return Ca * E^(-ga) / dt * S\n",
    "#     else\n",
    "#         return Cb * E^(-gb) / dt * S\n",
    "#     end\n",
    "# end\n"
   ]
  },
  {
   "cell_type": "code",
   "execution_count": null,
   "metadata": {},
   "outputs": [],
   "source": [
    "# arr_spectrum_real = [floor(Int, real_spectrum(x_)) for x_ in energy]\n",
    "# f_y = create_spectrum(arr_spectrum_real, energy);\n",
    "f_y = zeros(25);"
   ]
  },
  {
   "cell_type": "code",
   "execution_count": null,
   "metadata": {},
   "outputs": [],
   "source": [
    "arr_spectrum_real_p = [floor(Int, real_spectrum_p(x_)) for x_ in energy_p]\n",
    "f_y_p = create_spectrum_p(arr_spectrum_real_p, energy_p);\n",
    "\n",
    "log_arr_spectrum_real_p = log.(10, arr_spectrum_real_p);\n",
    "# log_arr_spectrum_real = log.(10, arr_spectrum_real)\n",
    "\n",
    "plot(energy_p, log_arr_spectrum_real_p, label=\"p spectrum\", dpi=400,\n",
    "    xtickfontsize=14 ,ytickfontsize=14, legendfontsize=14, guidefont=font(14), color = :red)\n",
    "# plot!(energy, log_arr_spectrum_real, label=\"e spectrum\", dpi=400,\n",
    "#     xtickfontsize=14 ,ytickfontsize=14, legendfontsize=14, guidefont=font(14), color = :blue,\n",
    "#     xlabel=\"log E, MeV\", ylabel=\"log N\")\n",
    "# savefig(\"p_e_log_spectra.png\")"
   ]
  },
  {
   "cell_type": "code",
   "execution_count": null,
   "metadata": {},
   "outputs": [],
   "source": [
    "# plot(energy_p, arr_spectrum_real_p, label=\"p spectrum\", dpi=400,\n",
    "#     xtickfontsize=14 ,ytickfontsize=14, legendfontsize=14, guidefont=font(14), color = :red)\n",
    "# plot!(energy, arr_spectrum_real, label=\"e spectrum\", dpi=400,\n",
    "#     xtickfontsize=14 ,ytickfontsize=14, legendfontsize=14, guidefont=font(14), color = :blue,\n",
    "#     xlabel=\"E, MeV\", ylabel=\"N\")\n",
    "# savefig(\"p_e_spectra.png\")"
   ]
  },
  {
   "cell_type": "code",
   "execution_count": null,
   "metadata": {},
   "outputs": [],
   "source": [
    "# plot(energy_p[1:18], arr_spectrum_real_p[1:18], label=\"p spectrum\", dpi=400,\n",
    "#     xtickfontsize=14 ,ytickfontsize=14, legendfontsize=14, guidefont=font(14), color = :red,\n",
    "#     xscale = :log10, yscale = :log10, legend=:bottomright)\n",
    "# plot!(energy[1:10], arr_spectrum_real[1:10], label=\"e spectrum\", dpi=400,\n",
    "#     xtickfontsize=14 ,ytickfontsize=14, legendfontsize=14, guidefont=font(14), color = :blue,\n",
    "#     xlabel=\"E, MeV\", ylabel=\"dN/dE\", xscale = :log10, yscale = :log10, legend=:bottomright, minorgrid=true)\n",
    "# savefig(\"p_e_loglog_spectra.png\")"
   ]
  },
  {
   "cell_type": "code",
   "execution_count": null,
   "metadata": {},
   "outputs": [],
   "source": [
    "plot(f_y_p)\n",
    "# plot!(f_y)\n",
    "\n",
    "# f_y_corrected = [max(f, 1) for f in f_y]\n",
    "# println(f_y_corrected)\n",
    "\n",
    "# plot(log.(10, f_y_p), label=\"p response\", dpi=400,\n",
    "#     xtickfontsize=14 ,ytickfontsize=14, legendfontsize=14, guidefont=font(14), color = :red)\n",
    "# plot!(log.(10, f_y_corrected), label=\"e response\", dpi=400,\n",
    "#     xtickfontsize=14 ,ytickfontsize=14, legendfontsize=14, guidefont=font(14), color = :blue,\n",
    "#     xlabel=\"N\", ylabel=\"log delta(E)\")\n",
    "# savefig(\"p_e_log_response.png\")\n",
    "\n",
    "# plot(f_y_p, label=\"p deposition\", dpi=400,\n",
    "#     xtickfontsize=14 ,ytickfontsize=14, legendfontsize=10, guidefont=font(14), color = :blue, linestyle=:dot,\n",
    "#     alpha=0.7, xscale = :log10, yscale = :log10)\n",
    "# plot!(f_y[1:8], label=\"e deposition\", dpi=400,\n",
    "#     xtickfontsize=14 ,ytickfontsize=14, legendfontsize=10, guidefont=font(14), color = :red,\n",
    "#     xlabel=\"N\", ylabel=\"delta E\", linestyle=:dot, alpha=0.7, xscale = :log10, yscale = :log10,)\n",
    "# plot!(f, label=\"total deposition\", dpi=400,\n",
    "#     xtickfontsize=14 ,ytickfontsize=14, legendfontsize=10, guidefont=font(14), color = :orange, alpha=0.3)\n",
    "# savefig(\"deposition.png\")"
   ]
  },
  {
   "cell_type": "code",
   "execution_count": null,
   "metadata": {},
   "outputs": [],
   "source": [
    "# @memoize function K_cont(E, y)\n",
    "#     if E in energy\n",
    "#         return K(E, y)\n",
    "#     end\n",
    "#     E_max = energy[findfirst(x -> x>=E, energy)]\n",
    "#     E_min = energy[findlast(x -> x<=E, energy)]\n",
    "#     return (K(E_min, y) * (E_max - E) + K(E_max, y) * (E - E_min)) / (E_max - E_min)\n",
    "# end\n",
    "\n",
    "# @memoize function K_cont_ln(E, y)\n",
    "#     return K_cont(exp(E), y) * exp(E)\n",
    "# end"
   ]
  },
  {
   "cell_type": "code",
   "execution_count": null,
   "metadata": {},
   "outputs": [],
   "source": [
    "@memoize function K_cont_p(E, y)\n",
    "    if E in energy_p\n",
    "        return K_p(E, y)\n",
    "    end\n",
    "    E_max = energy_p[findfirst(x -> x>=E, energy_p)]\n",
    "    E_min = energy_p[findlast(x -> x<=E, energy_p)]\n",
    "    return (K_p(E_min, y) * (E_max - E) + K_p(E_max, y) * (E - E_min)) / (E_max - E_min)\n",
    "end\n",
    "\n",
    "# @memoize function K_cont_p_ln(E, y)\n",
    "#     return K_cont_p(exp(E), y) * exp(E)\n",
    "# end"
   ]
  },
  {
   "cell_type": "code",
   "execution_count": null,
   "metadata": {},
   "outputs": [],
   "source": [
    "sig = 0.01*f_y + [max(sqrt(i), 1) for i in f_y]\n",
    "f = f_y + f_y_p;\n",
    "# plot(f, ribbon=sig, fillalpha=0.3, xlabel=\"y\", ylabel=\"f\", label=\"\", dpi=400,\n",
    "#     xtickfontsize=14, ytickfontsize=14, legendfontsize=14, guidefont=font(14), color = :blue)\n",
    "# savefig(\"f_y_cont.png\")"
   ]
  },
  {
   "cell_type": "code",
   "execution_count": null,
   "metadata": {},
   "outputs": [],
   "source": [
    "a = E_min\n",
    "b = E_max\n",
    "basis = CubicSplineBasis(a, b, 60, (nothing, \"dirichlet\"));\n",
    "Omega = omega(basis);\n"
   ]
  },
  {
   "cell_type": "code",
   "execution_count": null,
   "metadata": {},
   "outputs": [],
   "source": [
    "model = GaussErrorUnfolder(basis, [Omega], \"User\", alphas=[0.1440379000137214]);"
   ]
  },
  {
   "cell_type": "code",
   "execution_count": null,
   "metadata": {},
   "outputs": [],
   "source": [
    "discretize_kernel(basis, K_cont_p, collect(range(1, stop=25)))"
   ]
  },
  {
   "cell_type": "code",
   "execution_count": null,
   "metadata": {},
   "outputs": [],
   "source": [
    "@time result = solve(model, K_cont_p, f, sig, collect(range(1, stop=25)));\n",
    "# @time result_another = solve(model, K_another, f, sig, collect(range(1, stop=100)));"
   ]
  },
  {
   "cell_type": "code",
   "execution_count": null,
   "metadata": {},
   "outputs": [],
   "source": [
    "x = collect(range(a, b, length=500))\n",
    "phivec = PhiVec(result, basis)\n",
    "\n",
    "phi_reconstructed = phivec.phi_function.(x)\n",
    "phi_reconstructed_errors = phivec.error_function.(x)\n",
    "\n",
    "plot(energy_p, arr_spectrum_real_p, label=\"Real spectrum\", color=:red)\n",
    "plot!(x, phi_reconstructed, ribbon=phi_reconstructed_errors, fillalpha=0.3,\n",
    "    label=\"Reconstructed spectrum\", xlabel=\"E, MeV\", ylabel=\"dN/dE\", color = :blue,\n",
    "    xtickfontsize=14,ytickfontsize=14, legendfontsize=14, guidefont=font(14), dpi=400)\n",
    "# savefig(\"reconstructed_cont_p_e_25_from_10.png\")"
   ]
  },
  {
   "cell_type": "code",
   "execution_count": null,
   "metadata": {},
   "outputs": [],
   "source": [
    "arr_rec = phivec.phi_function.(energy_p)\n",
    "for_plot = [abs(arr_rec[i]-arr_spectrum_real_p[i])/arr_spectrum_real_p[i] for i in range(1, stop=length(arr_rec[1:18]))]\n",
    "print(mean(for_plot))\n",
    "plot(for_plot, linestyle=:dot)"
   ]
  },
  {
   "cell_type": "code",
   "execution_count": null,
   "metadata": {},
   "outputs": [],
   "source": [
    "# x = collect(range(1, 150, length=500))\n",
    "# phivec_another = PhiVec(result_another, basis)\n",
    "\n",
    "# phi_reconstructed_another = phivec_another.phi_function.(x)\n",
    "# phi_reconstructed_errors_another = phivec_another.error_function.(x)\n",
    "\n",
    "# plot(collect(range(1, stop=150)), arr_spectrum_real, label=\"Real spectrum\", color=:red)\n",
    "# plot!(x, phi_reconstructed_another, ribbon=phi_reconstructed_errors_another, fillalpha=0.3,\n",
    "#     label=\"Reconstructed spectrum\", xlabel=\"E, MeV\", ylabel=\"N\", color = :blue,)\n",
    "# #     xtickfontsize=12,ytickfontsize=12, legendfontsize=12, guidefont=font(12),  dpi=200)\n",
    "# # savefig(\"reconstructed_cont.png\")"
   ]
  },
  {
   "cell_type": "code",
   "execution_count": null,
   "metadata": {},
   "outputs": [],
   "source": [
    "# arr_rec_another = phivec_another.phi_function.(energy)\n",
    "# for_plot_another = [abs(arr_rec_another[i]-arr_spectrum_real[i])/arr_spectrum_real[i] for i in range(1, stop=length(arr_rec))]\n",
    "# print(mean(for_plot_another))\n",
    "# plot(for_plot_another, linestyle=:dot)"
   ]
  },
  {
   "cell_type": "code",
   "execution_count": null,
   "metadata": {},
   "outputs": [],
   "source": []
  }
 ],
 "metadata": {
  "@webio": {
   "lastCommId": null,
   "lastKernelId": null
  },
  "hide_code_all_hidden": false,
  "hide_input": false,
  "kernelspec": {
   "display_name": "Julia 1.1.0",
   "language": "julia",
   "name": "julia-1.1"
  },
  "language_info": {
   "file_extension": ".jl",
   "mimetype": "application/julia",
   "name": "julia",
   "version": "1.1.0"
  }
 },
 "nbformat": 4,
 "nbformat_minor": 2
}
