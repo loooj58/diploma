{
 "cells": [
  {
   "cell_type": "code",
   "execution_count": 6,
   "metadata": {},
   "outputs": [
    {
     "data": {
      "text/plain": [
       "Plots.GRBackend()"
      ]
     },
     "execution_count": 6,
     "metadata": {},
     "output_type": "execute_result"
    }
   ],
   "source": [
    "using Random, Distributions\n",
    "\n",
    "Random.seed!(123)\n",
    "\n",
    "x = rand(d, 15000)\n",
    "\n",
    "using Plots\n",
    "plotly()\n",
    "gr(size=(500,500), html_output_format=:png)\n",
    "\n",
    "\n"
   ]
  },
  {
   "cell_type": "code",
   "execution_count": 77,
   "metadata": {},
   "outputs": [],
   "source": [
    "d = Normal(0, 10)\n",
    "data_samples = Array{Float64, 1}()\n",
    "counter = 0\n",
    "while counter < 10000\n",
    "    x = rand(d)\n",
    "    if abs(x) <= 30.5\n",
    "        counter += 1\n",
    "        push!(data_samples, convert(Int, round(x)))\n",
    "    end\n",
    "end"
   ]
  },
  {
   "cell_type": "code",
   "execution_count": 78,
   "metadata": {},
   "outputs": [
    {
     "data": {
      "image/png": "[encoded data removed]"
     },
     "execution_count": 78,
     "metadata": {},
     "output_type": "execute_result"
    }
   ],
   "source": [
    "histogram(data_samples, bins=61)"
   ]
  },
  {
   "cell_type": "code",
   "execution_count": 80,
   "metadata": {},
   "outputs": [
    {
     "ename": "ErrorException",
     "evalue": "type Array has no field count",
     "output_type": "error",
     "traceback": [
      "type Array has no field count",
      "",
      "Stacktrace:",
      " [1] getproperty(::Any, ::Symbol) at ./sysimg.jl:18",
      " [2] top-level scope at In[80]:1"
     ]
    }
   ],
   "source": [
    "data_samples"
   ]
  },
  {
   "cell_type": "code",
   "execution_count": 81,
   "metadata": {},
   "outputs": [
    {
     "data": {
      "text/plain": [
       "Dict{Float64,Int64} with 61 entries:\n",
       "  2.0   => 363\n",
       "  -7.0  => 315\n",
       "  11.0  => 214\n",
       "  25.0  => 12\n",
       "  -3.0  => 388\n",
       "  29.0  => 1\n",
       "  8.0   => 263\n",
       "  -13.0 => 168\n",
       "  20.0  => 55\n",
       "  14.0  => 120\n",
       "  -12.0 => 204\n",
       "  -28.0 => 9\n",
       "  18.0  => 75\n",
       "  -24.0 => 29\n",
       "  -23.0 => 31\n",
       "  -15.0 => 111\n",
       "  -19.0 => 72\n",
       "  26.0  => 14\n",
       "  -20.0 => 64\n",
       "  17.0  => 111\n",
       "  -9.0  => 235\n",
       "  -6.0  => 350\n",
       "  4.0   => 363\n",
       "  -10.0 => 245\n",
       "  13.0  => 144\n",
       "  ⋮     => ⋮"
      ]
     },
     "execution_count": 81,
     "metadata": {},
     "output_type": "execute_result"
    }
   ],
   "source": [
    "u=unique(data_samples)\n",
    "d=Dict([(i,count(x->x==i,data_samples)) for i in u])"
   ]
  },
  {
   "cell_type": "code",
   "execution_count": 83,
   "metadata": {},
   "outputs": [
    {
     "name": "stdout",
     "output_type": "stream",
     "text": [
      "OrderedCollections.OrderedDict(-30.0=>2,-29.0=>5,-28.0=>9,-27.0=>16,-26.0=>11,-25.0=>18,-24.0=>29,-23.0=>31,-22.0=>42,-21.0=>44,-20.0=>64,-19.0=>72,-18.0=>70,-17.0=>100,-16.0=>118,-15.0=>111,-14.0=>139,-13.0=>168,-12.0=>204,-11.0=>205,-10.0=>245,-9.0=>235,-8.0=>290,-7.0=>315,-6.0=>350,-5.0=>391,-4.0=>351,-3.0=>388,-2.0=>393,-1.0=>371,0.0=>421,1.0=>427,2.0=>363,3.0=>422,4.0=>363,5.0=>367,6.0=>372,7.0=>331,8.0=>263,9.0=>276,10.0=>226,11.0=>214,12.0=>192,13.0=>144,14.0=>120,15.0=>131,16.0=>96,17.0=>111,18.0=>75,19.0=>67,20.0=>55,21.0=>42,22.0=>35,23.0=>25,24.0=>26,25.0=>12,26.0=>14,27.0=>10,28.0=>9,29.0=>1,30.0=>3)\n"
     ]
    }
   ],
   "source": [
    "println(sort(d))"
   ]
  },
  {
   "cell_type": "code",
   "execution_count": null,
   "metadata": {},
   "outputs": [],
   "source": []
  }
 ],
 "metadata": {
  "kernelspec": {
   "display_name": "Julia 1.1.0",
   "language": "julia",
   "name": "julia-1.1"
  },
  "language_info": {
   "file_extension": ".jl",
   "mimetype": "application/julia",
   "name": "julia",
   "version": "1.1.0"
  }
 },
 "nbformat": 4,
 "nbformat_minor": 2
}
